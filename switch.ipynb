{
 "cells": [
  {
   "source": [
    "## Setup\n",
    "Initialize connection to the hubs"
   ],
   "cell_type": "markdown",
   "metadata": {
    "scrolled": true
   }
  },
  {
   "cell_type": "code",
   "execution_count": null,
   "metadata": {},
   "outputs": [],
   "source": [
    "from pybricksdev.connections import BLEPUPConnection, EV3Connection\n",
    "from asyncio import gather, sleep\n",
    "\n",
    "class BLEPUPConnectionExtra(BLEPUPConnection):\n",
    "    def line_handler(self, line):\n",
    "        try:\n",
    "            self.line_buffer.append(line)\n",
    "        except:\n",
    "            self.line_buffer = []\n",
    "        super().line_handler(line)\n",
    "\n",
    "try:\n",
    "    switch, train\n",
    "except:\n",
    "    switch = BLEPUPConnectionExtra()\n",
    "    await switch.connect('90:84:2B:01:14:27')\n",
    "    \n",
    "    train = BLEPUPConnectionExtra()\n",
    "    await train.connect('90:84:2B:04:C3:81')"
   ]
  },
  {
   "source": [
    "## Train script\n",
    "Output color sensor detection to variable"
   ],
   "cell_type": "markdown",
   "metadata": {}
  },
  {
   "cell_type": "code",
   "execution_count": null,
   "metadata": {},
   "outputs": [],
   "source": [
    "%%file build/train.py\n",
    "\n",
    "from pybricks.hubs import CityHub\n",
    "from pybricks.pupdevices import ColorDistanceSensor\n",
    "from pybricks.parameters import Port, Color\n",
    "from pybricks.tools import wait, StopWatch\n",
    "\n",
    "hub = CityHub()\n",
    "sensor = ColorDistanceSensor(Port.B)\n",
    "speed = 0\n",
    "\n",
    "#wait(2000)\n",
    "\n",
    "while True:\n",
    "    color = sensor.color()\n",
    "    #print(color)\n",
    "    if color == Color.RED:\n",
    "        hub.light.on(Color.RED)\n",
    "        speed = 0\n",
    "    elif color == Color.YELLOW:\n",
    "        hub.light.on(Color.YELLOW)\n",
    "        speed = 1\n",
    "    elif color == Color.WHITE:\n",
    "        hub.light.on(Color.WHITE)\n",
    "        speed = 2\n",
    "    print(\"__data__{0}\".format(speed))\n",
    "    wait(500)"
   ]
  },
  {
   "source": [
    "## Switch script\n",
    "Evaluate value recieved from train and act on it"
   ],
   "cell_type": "markdown",
   "metadata": {}
  },
  {
   "cell_type": "code",
   "execution_count": null,
   "metadata": {},
   "outputs": [],
   "source": [
    "%%file build/switch.py\n",
    "\n",
    "from pybricks.hubs import CityHub\n",
    "from pybricks.pupdevices import ColorDistanceSensor, DCMotor\n",
    "from pybricks.parameters import Port, Color\n",
    "from pybricks.tools import wait, StopWatch\n",
    "\n",
    "hub = CityHub()\n",
    "motor = DCMotor(Port.A)\n",
    "speed = 0\n",
    "\n",
    "#wait(2000)\n",
    "\n",
    "while True:\n",
    "    motor.stop()\n",
    "    speed = eval(input())\n",
    "    if speed == 0:\n",
    "        hub.light.on(Color.RED)\n",
    "    elif speed == 1:\n",
    "        hub.light.on(Color.YELLOW)\n",
    "        motor.dc(100)\n",
    "        wait(200)\n",
    "        motor.stop()\n",
    "    elif speed == 2:\n",
    "        hub.light.on(Color.WHITE)\n",
    "        motor.dc(-100)\n",
    "        wait(400)\n",
    "        motor.stop()\n",
    "    wait(500)"
   ]
  },
  {
   "source": [
    "## PC script\n",
    "Reads value from Train and sends it to all other hubs"
   ],
   "cell_type": "markdown",
   "metadata": {}
  },
  {
   "cell_type": "code",
   "execution_count": null,
   "metadata": {},
   "outputs": [],
   "source": [
    "# We can do anything we want with the data, like displaying it.\n",
    "# In this example, we just send everything received from one hub\n",
    "# to all the other hubs.\n",
    "\n",
    "DATA = b'__data__'\n",
    "\n",
    "async def forwarder(*hubs):\n",
    "    await sleep(2)\n",
    "    \n",
    "    while any(hub.state == hub.RUNNING for hub in hubs):\n",
    "        for hub in hubs:\n",
    "            while len(hub.line_buffer) > 0:\n",
    "                line = hub.line_buffer.pop(0)\n",
    "                if DATA in line:\n",
    "                    for remote in hubs:\n",
    "                        if remote != hub:  \n",
    "                            await remote.write(line[len(DATA):] + b'\\r\\n')\n",
    "        await sleep(0.2)"
   ]
  },
  {
   "source": [
    "## Run everything"
   ],
   "cell_type": "markdown",
   "metadata": {}
  },
  {
   "cell_type": "code",
   "execution_count": null,
   "metadata": {
    "scrolled": true
   },
   "outputs": [],
   "source": [
    "await gather(\n",
    "    switch.run('build/switch.py'),\n",
    "    train.run('build/train.py'),\n",
    "    forwarder(switch)\n",
    ")"
   ]
  }
 ],
 "metadata": {
  "kernelspec": {
   "display_name": "Python 3",
   "language": "python",
   "name": "python3"
  },
  "language_info": {
   "codemirror_mode": {
    "name": "ipython",
    "version": 3
   },
   "file_extension": ".py",
   "mimetype": "text/x-python",
   "name": "python",
   "nbconvert_exporter": "python",
   "pygments_lexer": "ipython3",
   "version": "3.8.6"
  }
 },
 "nbformat": 4,
 "nbformat_minor": 4
}