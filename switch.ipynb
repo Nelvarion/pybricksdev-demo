{
 "cells": [
  {
   "cell_type": "markdown",
   "metadata": {
    "scrolled": true
   },
   "source": [
    "## Setup\n",
    "Initialize connection to the hubs"
   ]
  },
  {
   "cell_type": "code",
   "execution_count": 1,
   "metadata": {},
   "outputs": [
    {
     "name": "stdout",
     "output_type": "stream",
     "text": [
      "Connecting to 90:84:2B:01:14:27\n",
      "Connected successfully!\n",
      "Connecting to 90:84:2B:04:C3:81\n",
      "Connected successfully!\n"
     ]
    }
   ],
   "source": [
    "from pybricksdev.connections import BLEPUPConnection\n",
    "from asyncio import gather, sleep\n",
    "\n",
    "switch = BLEPUPConnection()\n",
    "await switch.connect('90:84:2B:01:14:27')\n",
    "    \n",
    "train = BLEPUPConnection()\n",
    "await train.connect('90:84:2B:04:C3:81')"
   ]
  },
  {
   "cell_type": "markdown",
   "metadata": {},
   "source": [
    "## Train script\n",
    "Output color sensor detection to variable"
   ]
  },
  {
   "cell_type": "code",
   "execution_count": 2,
   "metadata": {},
   "outputs": [
    {
     "name": "stdout",
     "output_type": "stream",
     "text": [
      "Overwriting build/train.py\n"
     ]
    }
   ],
   "source": [
    "%%file build/train.py\n",
    "\n",
    "from pybricks.hubs import CityHub\n",
    "from pybricks.pupdevices import ColorDistanceSensor\n",
    "from pybricks.parameters import Port, Color\n",
    "from pybricks.tools import wait\n",
    "\n",
    "hub = CityHub()\n",
    "sensor = ColorDistanceSensor(Port.B)\n",
    "speed = 0\n",
    "\n",
    "#wait(2000)\n",
    "\n",
    "while True:\n",
    "    color = sensor.color()\n",
    "    #print(color)\n",
    "    if color == Color.RED:\n",
    "        hub.light.on(Color.RED)\n",
    "        speed = 0\n",
    "    elif color == Color.YELLOW:\n",
    "        hub.light.on(Color.YELLOW)\n",
    "        speed = 1\n",
    "    elif color == Color.WHITE:\n",
    "        hub.light.on(Color.WHITE)\n",
    "        speed = 2\n",
    "    print(speed)\n",
    "    #print(\"__data__{0}\".format(speed))\n",
    "    wait(500)"
   ]
  },
  {
   "cell_type": "markdown",
   "metadata": {},
   "source": [
    "## Switch script\n",
    "Evaluate value recieved from train and act on it"
   ]
  },
  {
   "cell_type": "code",
   "execution_count": 3,
   "metadata": {},
   "outputs": [
    {
     "name": "stdout",
     "output_type": "stream",
     "text": [
      "Overwriting build/switch.py\n"
     ]
    }
   ],
   "source": [
    "%%file build/switch.py\n",
    "\n",
    "from pybricks.hubs import CityHub\n",
    "from pybricks.pupdevices import ColorDistanceSensor, DCMotor\n",
    "from pybricks.parameters import Port, Color\n",
    "from pybricks.tools import wait\n",
    "from pybricks.experimental import getchar\n",
    "\n",
    "hub = CityHub()\n",
    "motor = DCMotor(Port.A)\n",
    "speed = 0\n",
    "\n",
    "wait(2000)\n",
    "\n",
    "while True:\n",
    "    #motor.stop()\n",
    "    try:\n",
    "        #speed = eval(input())\n",
    "        speed = getchar()\n",
    "    except:\n",
    "        print(speed)\n",
    "        print(\"switch: didn't get value\")\n",
    "        pass\n",
    "    else:\n",
    "        #if speed is not None:\n",
    "        if speed == 0:\n",
    "            hub.light.on(Color.RED)\n",
    "        elif speed == 1:\n",
    "            hub.light.on(Color.YELLOW)\n",
    "            motor.dc(100)\n",
    "            wait(200)\n",
    "            motor.stop()\n",
    "        elif speed == 2:\n",
    "            hub.light.on(Color.WHITE)\n",
    "            motor.dc(-100)\n",
    "            wait(400)\n",
    "            motor.stop()\n",
    "    wait(500)"
   ]
  },
  {
   "cell_type": "markdown",
   "metadata": {},
   "source": [
    "## PC script\n",
    "Reads value from Train and sends it to all other hubs"
   ]
  },
  {
   "cell_type": "code",
   "execution_count": 4,
   "metadata": {},
   "outputs": [],
   "source": [
    "# We can do anything we want with the data, like displaying it.\n",
    "# In this example, we just send the received number from the\n",
    "# remote to the car as a single byte\n",
    "\n",
    "#DATA = b'__data__'\n",
    "\n",
    "async def forwarder(switch, train):\n",
    "    \n",
    "    # Give the hubs some time to start\n",
    "    await sleep(5)\n",
    "\n",
    "    while switch.state == switch.RUNNING or train.state == train.RUNNING:\n",
    "        # Check if the remote has printed anything\n",
    "        if len(train.output) > 0:\n",
    "            \n",
    "            # If so, let's see what the most recent value is\n",
    "            line = train.output[-1]\n",
    "            \n",
    "            # In this demo, we are only interested in the most recent value,\n",
    "            # so we can clear everything else.\n",
    "            train.output = []\n",
    "            \n",
    "            # Try to convert it to a number and send it as one byte to the receiving hub\n",
    "            try:\n",
    "                speed = int(line.decode())\n",
    "                print (\"pc: \", speed)\n",
    "                await switch.write(bytes([speed]))\n",
    "                #await switch.write(line[len(DATA):] + b'\\r\\n')\n",
    "            except:\n",
    "                print(\"skipped\")\n",
    "                pass\n",
    "        await sleep(0.5)"
   ]
  },
  {
   "cell_type": "markdown",
   "metadata": {},
   "source": [
    "## Run everything"
   ]
  },
  {
   "cell_type": "code",
   "execution_count": null,
   "metadata": {
    "scrolled": false
   },
   "outputs": [
    {
     "name": "stdout",
     "output_type": "stream",
     "text": [
      "\n",
      "pc:  2\n",
      "pc:  2\n",
      "pc:  2\n",
      "pc:  2\n",
      "pc:  2\n",
      "pc:  2\n",
      "pc:  2\n",
      "pc:  2\n",
      "pc:  2\n"
     ]
    }
   ],
   "source": [
    "await gather(\n",
    "    switch.run('build/switch.py'),\n",
    "    train.run('build/train.py', print_output=False),\n",
    "    #switch.run('build/switch.py', print_output=False),\n",
    "    #train.run('build/train.py'),\n",
    "    forwarder(switch, train)\n",
    ")"
   ]
  },
  {
   "cell_type": "code",
   "execution_count": 1,
   "metadata": {},
   "outputs": [
    {
     "ename": "NameError",
     "evalue": "name 'switch' is not defined",
     "output_type": "error",
     "traceback": [
      "\u001b[1;31m---------------------------------------------------------------------------\u001b[0m",
      "\u001b[1;31mNameError\u001b[0m                                 Traceback (most recent call last)",
      "\u001b[1;32m<ipython-input-1-40fb3c2b1dd2>\u001b[0m in \u001b[0;36m<module>\u001b[1;34m\u001b[0m\n\u001b[0;32m      1\u001b[0m \u001b[1;31m# Disconnect (optional)\u001b[0m\u001b[1;33m\u001b[0m\u001b[1;33m\u001b[0m\u001b[1;33m\u001b[0m\u001b[0m\n\u001b[0;32m      2\u001b[0m \u001b[1;33m\u001b[0m\u001b[0m\n\u001b[1;32m----> 3\u001b[1;33m \u001b[1;32mawait\u001b[0m \u001b[0mswitch\u001b[0m\u001b[1;33m.\u001b[0m\u001b[0mdisconnect\u001b[0m\u001b[1;33m(\u001b[0m\u001b[1;33m)\u001b[0m\u001b[1;33m\u001b[0m\u001b[1;33m\u001b[0m\u001b[0m\n\u001b[0m\u001b[0;32m      4\u001b[0m \u001b[1;32mawait\u001b[0m \u001b[0mtrain\u001b[0m\u001b[1;33m.\u001b[0m\u001b[0mdisconnect\u001b[0m\u001b[1;33m(\u001b[0m\u001b[1;33m)\u001b[0m\u001b[1;33m\u001b[0m\u001b[1;33m\u001b[0m\u001b[0m\n",
      "\u001b[1;31mNameError\u001b[0m: name 'switch' is not defined"
     ]
    }
   ],
   "source": [
    "# Disconnect (optional)\n",
    "\n",
    "await switch.disconnect()\n",
    "await train.disconnect()"
   ]
  },
  {
   "cell_type": "code",
   "execution_count": null,
   "metadata": {},
   "outputs": [],
   "source": []
  }
 ],
 "metadata": {
  "kernelspec": {
   "display_name": "Python 3",
   "language": "python",
   "name": "python3"
  },
  "language_info": {
   "codemirror_mode": {
    "name": "ipython",
    "version": 3
   },
   "file_extension": ".py",
   "mimetype": "text/x-python",
   "name": "python",
   "nbconvert_exporter": "python",
   "pygments_lexer": "ipython3",
   "version": "3.8.6"
  }
 },
 "nbformat": 4,
 "nbformat_minor": 4
}
