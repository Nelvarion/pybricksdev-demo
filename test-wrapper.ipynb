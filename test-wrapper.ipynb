{
 "cells": [
  {
   "cell_type": "code",
   "execution_count": null,
   "metadata": {},
   "outputs": [],
   "source": [
    "from pybricksdev.connections import BLEPUPConnection\n",
    "from asyncio import gather, sleep"
   ]
  },
  {
   "cell_type": "code",
   "execution_count": null,
   "metadata": {},
   "outputs": [],
   "source": [
    "train = BLEPUPConnection()\n",
    "switch = BLEPUPConnection()"
   ]
  },
  {
   "cell_type": "code",
   "execution_count": null,
   "metadata": {},
   "outputs": [],
   "source": [
    "%%file build/train.py\n",
    "\n",
    "from pybricks import version\n",
    "from pybricks.hubs import CityHub\n",
    "from pybricks.pupdevices import ColorDistanceSensor, DCMotor\n",
    "from pybricks.parameters import Port, Color\n",
    "from pybricks.tools import wait\n",
    "\n",
    "wait(2000)\n",
    "hub = CityHub()\n",
    "sensor = ColorDistanceSensor(Port.B)\n",
    "motor = DCMotor(Port.A)\n",
    "speed = 55\n",
    "output = \"0\"\n",
    "prev_color = \"NONE\"\n",
    "if version[1] == \"3.0.0b1\":\n",
    "    train_prefix = \"1\"\n",
    "\n",
    "# color map\n",
    "track = Color(h=195, s=43, v=32, name='TRACK')\n",
    "red = Color(h=358, s=95, v=77, name='RED')\n",
    "dark_brown = Color(h=352, s=52, v=31, name='DARK_BROWN')\n",
    "blue = Color(h=220, s=97, v=67, name='BLUE')\n",
    "light_green = Color(h=50, s=92, v=76, name='LIGHT_GREEN')\n",
    "light_purple = Color(h=269, s=67, v=70, name='LIGHT_PURPLE')\n",
    "orange = Color(h=5, s=96, v=93, name='ORANGE')\n",
    "tan = Color(h=50, s=64, v=79, name='TAN')\n",
    "light_blue = Color(h=209, s=96, v=83, name='LIGHT_BLUE')\n",
    "\n",
    "my_colors = (track, Color.GREEN, red, dark_brown, Color.WHITE, blue, light_green, light_purple, orange, tan, light_blue, None)\n",
    "sensor.detectable_colors(my_colors)\n",
    "\n",
    "#motor.dc(speed)\n",
    "\n",
    "while True:\n",
    "    color = sensor.color()\n",
    "    if color != prev_color:\n",
    "        if color == red:\n",
    "            hub.light.on(red)\n",
    "            output = train_prefix + \"0\"\n",
    "            print(output)\n",
    "        elif color == blue:\n",
    "            hub.light.on(blue)\n",
    "            output = train_prefix + \"1\"\n",
    "        elif color == orange:\n",
    "            hub.light.on(orange)\n",
    "            output = train_prefix + \"2\"\n",
    "            print(output)\n",
    "            #motor.dc(speed)\n",
    "        elif color == Color.GREEN:\n",
    "            motor.stop()\n",
    "        else:\n",
    "            output = \"0\"\n",
    "        prev_color = color\n",
    "    wait(1000)"
   ]
  },
  {
   "cell_type": "code",
   "execution_count": null,
   "metadata": {},
   "outputs": [],
   "source": [
    "%%file build/switch.py\n",
    "\n",
    "from pybricks.hubs import CityHub\n",
    "from pybricks.pupdevices import DCMotor\n",
    "from pybricks.parameters import Port, Color\n",
    "from pybricks.tools import wait\n",
    "from pybricks.experimental import getchar\n",
    "\n",
    "hub = CityHub()\n",
    "motora = DCMotor(Port.A)\n",
    "#motorb = DCMotor(Port.B)\n",
    "status = \"main\"\n",
    "pulse = 40\n",
    "power = 100\n",
    "\n",
    "#wait(2000)\n",
    "\n",
    "while True:\n",
    "    #motor.stop()\n",
    "    try:\n",
    "        train_input = getchar()\n",
    "        print(train_input)\n",
    "        #train_input = train_input[1:]\n",
    "    except:\n",
    "        print(\"switch: didn't get value\")\n",
    "        pass\n",
    "    else:\n",
    "        if train_input == 0:\n",
    "            hub.light.on(Color.MAGENTA)\n",
    "        elif train_input == 10:\n",
    "            hub.light.on(Color.RED)\n",
    "            motora.dc(-power)\n",
    "            wait(pulse)\n",
    "            motora.stop()\n",
    "        elif train_input == 12:\n",
    "            hub.light.on(Color.WHITE)\n",
    "            motora.dc(power)\n",
    "            wait(pulse)\n",
    "            motora.stop()\n",
    "    wait(1000)"
   ]
  },
  {
   "cell_type": "code",
   "execution_count": null,
   "metadata": {},
   "outputs": [],
   "source": [
    "async def forwarder(switch, train):\n",
    "    \n",
    "    await sleep(5)\n",
    "\n",
    "    while True: \n",
    "        try:\n",
    "            if len(train.output) > 0:\n",
    "                line = train.output[-1]\n",
    "                train.output = []\n",
    "                try:\n",
    "                    speed = int(line.decode())\n",
    "                    print (\"pc: \", speed)\n",
    "                    await switch.write(bytes([speed]))\n",
    "                except:\n",
    "                    print(\"skipped\")\n",
    "                    pass\n",
    "        except:\n",
    "            pass\n",
    "        await sleep(1)"
   ]
  },
  {
   "cell_type": "code",
   "execution_count": null,
   "metadata": {},
   "outputs": [],
   "source": [
    "async def switch_wrapper():\n",
    "    \n",
    "    while True:\n",
    "        try:\n",
    "            await switch.connect('90:84:2B:01:14:27')\n",
    "            await switch.run('build/switch.py', print_output=True)\n",
    "        except:\n",
    "            print(\"Switch hub not connected\")\n",
    "            pass\n",
    "    await sleep(5)"
   ]
  },
  {
   "cell_type": "code",
   "execution_count": null,
   "metadata": {},
   "outputs": [],
   "source": [
    "async def train_wrapper():\n",
    "    \n",
    "    while True:\n",
    "        try:\n",
    "            await train.connect('90:84:2B:04:C3:81')\n",
    "            await train.run('build/train.py', print_output=True)\n",
    "        except:\n",
    "            print(\"Train hub not connected\")\n",
    "            pass\n",
    "    await sleep(5)"
   ]
  },
  {
   "cell_type": "code",
   "execution_count": null,
   "metadata": {
    "scrolled": false
   },
   "outputs": [],
   "source": [
    "await gather(\n",
    "    switch_wrapper(),\n",
    "    train_wrapper(),\n",
    "    forwarder(switch, train)\n",
    ")"
   ]
  },
  {
   "cell_type": "code",
   "execution_count": null,
   "metadata": {},
   "outputs": [],
   "source": [
    "# Disconnect (optional)\n",
    "\n",
    "try:\n",
    "    await switch.disconnect()\n",
    "    await train.disconnect()\n",
    "except:\n",
    "    pass"
   ]
  },
  {
   "cell_type": "code",
   "execution_count": null,
   "metadata": {},
   "outputs": [],
   "source": []
  }
 ],
 "metadata": {
  "kernelspec": {
   "display_name": "Python 3",
   "language": "python",
   "name": "python3"
  },
  "language_info": {
   "codemirror_mode": {
    "name": "ipython",
    "version": 3
   },
   "file_extension": ".py",
   "mimetype": "text/x-python",
   "name": "python",
   "nbconvert_exporter": "python",
   "pygments_lexer": "ipython3",
   "version": "3.8.6"
  }
 },
 "nbformat": 4,
 "nbformat_minor": 4
}
